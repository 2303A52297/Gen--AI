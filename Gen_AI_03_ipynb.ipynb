{
  "nbformat": 4,
  "nbformat_minor": 0,
  "metadata": {
    "colab": {
      "provenance": []
    },
    "kernelspec": {
      "name": "python3",
      "display_name": "Python 3"
    },
    "language_info": {
      "name": "python"
    }
  },
  "cells": [
    {
      "cell_type": "markdown",
      "source": [
        "Question 1"
      ],
      "metadata": {
        "id": "7lyyDcrW5EbQ"
      }
    },
    {
      "cell_type": "code",
      "execution_count": 2,
      "metadata": {
        "colab": {
          "base_uri": "https://localhost:8080/"
        },
        "id": "e2iwhaQH4yPp",
        "outputId": "c065a602-886b-40f4-fdba-4f3e328fc96e"
      },
      "outputs": [
        {
          "output_type": "stream",
          "name": "stdout",
          "text": [
            "The minimum value is at x = 0.0, found in 1 iterations.\n"
          ]
        }
      ],
      "source": [
        "def gradient_descent(f_prime, initial_x, learning_rate, tolerance, max_iterations):\n",
        "    x = initial_x\n",
        "    for i in range(max_iterations):\n",
        "        gradient = f_prime(x)\n",
        "        new_x = x - learning_rate * gradient\n",
        "        if abs(new_x - x) < tolerance:\n",
        "            return new_x, i + 1\n",
        "        x = new_x\n",
        "    return x, max_iterations\n",
        "\n",
        "# Example usage\n",
        "# Function: f(x) = 5x^4 + 3x^2 + 10\n",
        "# Derivative: f'(x) = 20x^3 + 6x\n",
        "def f_prime(x):\n",
        "    return 20*x*x*x + 6*x\n",
        "\n",
        "initial_x = 0  # Starting point\n",
        "learning_rate = 0.1  # Step size\n",
        "tolerance = 1e-6  # Tolerance for stopping\n",
        "max_iterations = 1000  # Maximum number of iterations\n",
        "\n",
        "min_x, iterations = gradient_descent(f_prime, initial_x, learning_rate, tolerance, max_iterations)\n",
        "print(f\"The minimum value is at x = {min_x}, found in {iterations} iterations.\")"
      ]
    },
    {
      "cell_type": "markdown",
      "source": [
        "Question 2:-"
      ],
      "metadata": {
        "id": "8K3ntWFJ5w_k"
      }
    },
    {
      "cell_type": "code",
      "source": [
        "# Import sympy\n",
        "import sympy as sp\n",
        "\n",
        "# Define the symbols\n",
        "x, y = sp.symbols('x y')\n",
        "\n",
        "# Define the function\n",
        "f = 3 * x**2 + 5 * sp.exp(-y) + 10\n",
        "\n",
        "# Compute the partial derivatives\n",
        "f_prime_x = sp.diff(f, x)\n",
        "f_prime_y = sp.diff(f, y)\n",
        "\n",
        "# Display the partial derivatives\n",
        "print(f\"f'_x(x, y) = {f_prime_x}\")\n",
        "print(f\"f'_y(x, y) = {f_prime_y}\")\n",
        "\n",
        "# Gradient Descent Algorithm for two variables\n",
        "def gradient_descent_2d(f_prime_x, f_prime_y, initial_x, initial_y, learning_rate, tolerance, max_iterations):\n",
        "    x_val, y_val = initial_x, initial_y\n",
        "    for i in range(max_iterations):\n",
        "        grad_x = f_prime_x.subs({x: x_val, y: y_val})\n",
        "        grad_y = f_prime_y.subs({x: x_val, y: y_val})\n",
        "        new_x = x_val - learning_rate * grad_x\n",
        "        new_y = y_val - learning_rate * grad_y\n",
        "        if abs(new_x - x_val) < tolerance and abs(new_y - y_val) < tolerance:\n",
        "            return (new_x, new_y), i + 1\n",
        "        x_val, y_val = new_x, new_y\n",
        "    return (x_val, y_val), max_iterations\n",
        "\n",
        "# Initial guesses\n",
        "initial_x = 0\n",
        "initial_y = 0\n",
        "learning_rate = 0.1\n",
        "tolerance = 1e-6\n",
        "max_iterations = 1000\n",
        "\n",
        "# Run gradient descent\n",
        "min_values, iterations = gradient_descent_2d(f_prime_x, f_prime_y, initial_x, initial_y, learning_rate, tolerance, max_iterations)\n",
        "print(f\"The minimum value is at x = {min_values[0]}, y = {min_values[1]}, found in {iterations} iterations.\")\n"
      ],
      "metadata": {
        "colab": {
          "base_uri": "https://localhost:8080/"
        },
        "id": "1JffMEAM4-fw",
        "outputId": "89b50729-9c83-4ffb-c828-9686ecbc6886"
      },
      "execution_count": 5,
      "outputs": [
        {
          "output_type": "stream",
          "name": "stdout",
          "text": [
            "f'_x(x, y) = 6*x\n",
            "f'_y(x, y) = -5*exp(-y)\n",
            "The minimum value is at x = 0, y = 6.21980920407898, found in 1000 iterations.\n"
          ]
        }
      ]
    },
    {
      "cell_type": "markdown",
      "source": [
        "Question 3"
      ],
      "metadata": {
        "id": "-UJqHlJu_SFT"
      }
    },
    {
      "cell_type": "code",
      "source": [
        "def compute_error(expected, predicted):\n",
        "\n",
        "    return expected - predicted\n",
        "\n",
        "def compute_square_error(error):\n",
        "    return error ** 2\n",
        "\n",
        "def gradient_descent(inputs, expected_outputs, initial_M, initial_C, learning_rate, tolerance, max_iterations):\n",
        "    M = initial_M\n",
        "    C = initial_C\n",
        "    n = len(inputs)\n",
        "\n",
        "    for iteration in range(max_iterations):\n",
        "        total_gradient_M = 0\n",
        "        total_gradient_C = 0\n",
        "\n",
        "        for i in range(n):\n",
        "            predicted = M * inputs[i] + C\n",
        "            error = compute_error(expected_outputs[i], predicted)\n",
        "            total_gradient_M += -2 * inputs[i] * error\n",
        "            total_gradient_C += -2 * error\n",
        "\n",
        "        # Average the gradients\n",
        "        gradient_M = total_gradient_M / n\n",
        "        gradient_C = total_gradient_C / n\n",
        "\n",
        "        # Update M and C\n",
        "        new_M = M - learning_rate * gradient_M\n",
        "        new_C = C - learning_rate * gradient_C\n",
        "\n",
        "        # Check for convergence\n",
        "        if abs(new_M - M) < tolerance and abs(new_C - C) < tolerance:\n",
        "            return (new_M, new_C), iteration + 1\n",
        "\n",
        "        M, C = new_M, new_C\n",
        "\n",
        "    return (M, C), max_iterations\n",
        "\n",
        "# Example usage\n",
        "inputs = [1, 2, 3, 4, 5]  # Example inputs\n",
        "expected_outputs = [2, 4, 6, 8, 10]  # Example expected outputs\n",
        "initial_M = 0.0  # Initial guess for M\n",
        "initial_C = 0.0  # Initial guess for C\n",
        "learning_rate = 0.01  # Learning rate\n",
        "tolerance = 1e-6  # Tolerance for stopping\n",
        "max_iterations = 1000  # Maximum number of iterations\n",
        "\n",
        "optimal_parameters, iterations = gradient_descent(inputs, expected_outputs, initial_M, initial_C, learning_rate, tolerance, max_iterations)\n",
        "print(f\"The optimal values are M = {optimal_parameters[0]}, C = {optimal_parameters[1]}, found in {iterations} iterations.\")"
      ],
      "metadata": {
        "colab": {
          "base_uri": "https://localhost:8080/"
        },
        "id": "1OaB05yJ_Xga",
        "outputId": "e3a18b0b-7497-4ae8-b056-7b4583d6913f"
      },
      "execution_count": 6,
      "outputs": [
        {
          "output_type": "stream",
          "name": "stdout",
          "text": [
            "The optimal values are M = 1.9951803506719779, C = 0.017400463340610635, found in 1000 iterations.\n"
          ]
        }
      ]
    },
    {
      "cell_type": "markdown",
      "source": [
        "Question 4\n"
      ],
      "metadata": {
        "id": "UOJoLx1pz3iU"
      }
    },
    {
      "cell_type": "code",
      "source": [
        "import math\n",
        "def f(x, y):\n",
        "    return 3*x**2 + 5*math.exp(-y) + 10\n",
        "def df_dx(x, y):\n",
        "    return 6*x\n",
        "def df_dy(x, y):\n",
        "    return -5*math.exp(-y)\n",
        "learning_rate = 0.1\n",
        "x, y = 1.0, 1.0\n",
        "iterations = 1000\n",
        "for i in range(iterations):\n",
        "    x -= learning_rate * df_dx(x, y)\n",
        "    y -= learning_rate * df_dy(x, y)\n",
        "print(f\"f'_x(x, y) = {df_dx(x, y)}\")\n",
        "print(f\"f'_y(x, y) = {df_dy(x, y)}\")\n",
        "print(f\"The minimum value is at x = {x}, y = {y}, found in {iterations} iterations.\")"
      ],
      "metadata": {
        "colab": {
          "base_uri": "https://localhost:8080/"
        },
        "id": "-0cwf0Yez7KY",
        "outputId": "67ecb02d-d53a-402e-e6dc-e040e4b037c2"
      },
      "execution_count": 1,
      "outputs": [
        {
          "output_type": "stream",
          "name": "stdout",
          "text": [
            "f'_x(x, y) = 0.0\n",
            "f'_y(x, y) = -0.009919840324464965\n",
            "The minimum value is at x = 0.0, y = 6.2226563665731, found in 1000 iterations.\n"
          ]
        }
      ]
    }
  ]
}